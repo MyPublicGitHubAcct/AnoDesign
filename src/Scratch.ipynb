{
 "cells": [
  {
   "cell_type": "markdown",
   "id": "a4af79355b7a9e76",
   "metadata": {},
   "source": "Description could go here"
  },
  {
   "cell_type": "code",
   "execution_count": 4,
   "id": "fb1f566d1c183c98",
   "metadata": {
    "ExecuteTime": {
     "end_time": "2025-05-31T20:48:53.938675Z",
     "start_time": "2025-05-31T20:48:53.936475Z"
    }
   },
   "outputs": [
    {
     "data": {
      "text/plain": [
       "16"
      ]
     },
     "execution_count": 4,
     "metadata": {},
     "output_type": "execute_result"
    }
   ],
   "source": [
    "4**2"
   ]
  },
  {
   "cell_type": "code",
   "execution_count": null,
   "id": "70e91dd9e7918b87",
   "metadata": {},
   "outputs": [],
   "source": []
  }
 ],
 "metadata": {
  "kernelspec": {
   "display_name": "Python 3 (ipykernel)",
   "language": "python",
   "name": "python3"
  },
  "language_info": {
   "codemirror_mode": {
    "name": "ipython",
    "version": 3
   },
   "file_extension": ".py",
   "mimetype": "text/x-python",
   "name": "python",
   "nbconvert_exporter": "python",
   "pygments_lexer": "ipython3",
   "version": "3.13.3"
  }
 },
 "nbformat": 4,
 "nbformat_minor": 5
}
